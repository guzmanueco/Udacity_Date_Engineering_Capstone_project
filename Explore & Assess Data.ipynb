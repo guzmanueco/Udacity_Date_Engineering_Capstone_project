{
 "cells": [
  {
   "cell_type": "markdown",
   "metadata": {
    "editable": true
   },
   "source": [
    "### Step 2: Explore and Assess the Data\n",
    "#### Explore the Data \n",
    "Identify data quality issues, like missing values, duplicate data, etc.\n",
    "\n",
    "#### Cleaning Steps\n",
    "Document steps necessary to clean the data"
   ]
  },
  {
   "cell_type": "code",
   "execution_count": 2,
   "metadata": {
    "editable": true
   },
   "outputs": [],
   "source": [
    "# Install Packages\n",
    "# ! pip install -U numpy\n",
    "# ! pip install missingno"
   ]
  },
  {
   "cell_type": "code",
   "execution_count": 4,
   "metadata": {
    "editable": true
   },
   "outputs": [],
   "source": [
    "import pandas as pd\n",
    "import numpy as np\n",
    "import missingno as msno\n",
    "pd.set_option('display.width',170, 'display.max_rows',200, 'display.max_columns',900)\n",
    "import tools as tools\n",
    "from pyspark.sql import SparkSession"
   ]
  },
  {
   "cell_type": "code",
   "execution_count": 5,
   "metadata": {
    "editable": true
   },
   "outputs": [],
   "source": [
    "spark = SparkSession.builder.\\\n",
    "config(\"spark.jars.packages\",\"saurfang:spark-sas7bdat:2.0.0-s_2.11\")\\\n",
    ".enableHiveSupport().getOrCreate()\n",
    "df_spark =spark.read.format('com.github.saurfang.sas.spark').load('../../data/18-83510-I94-Data-2016/i94_apr16_sub.sas7bdat')"
   ]
  },
  {
   "cell_type": "markdown",
   "metadata": {
    "editable": true
   },
   "source": [
    "#### Airport Codes"
   ]
  },
  {
   "cell_type": "code",
   "execution_count": 2,
   "metadata": {
    "editable": true
   },
   "outputs": [],
   "source": [
    "# read data in"
   ]
  },
  {
   "cell_type": "code",
   "execution_count": 6,
   "metadata": {
    "editable": true
   },
   "outputs": [],
   "source": [
    "airport_codes = 'airport-codes_csv.csv'\n",
    "airport_df = pd.read_csv(airport_codes)"
   ]
  },
  {
   "cell_type": "code",
   "execution_count": 8,
   "metadata": {
    "editable": true
   },
   "outputs": [
    {
     "data": {
      "text/html": [
       "<div>\n",
       "<style scoped>\n",
       "    .dataframe tbody tr th:only-of-type {\n",
       "        vertical-align: middle;\n",
       "    }\n",
       "\n",
       "    .dataframe tbody tr th {\n",
       "        vertical-align: top;\n",
       "    }\n",
       "\n",
       "    .dataframe thead th {\n",
       "        text-align: right;\n",
       "    }\n",
       "</style>\n",
       "<table border=\"1\" class=\"dataframe\">\n",
       "  <thead>\n",
       "    <tr style=\"text-align: right;\">\n",
       "      <th></th>\n",
       "      <th>ident</th>\n",
       "      <th>type</th>\n",
       "      <th>name</th>\n",
       "      <th>elevation_ft</th>\n",
       "      <th>continent</th>\n",
       "      <th>iso_country</th>\n",
       "      <th>iso_region</th>\n",
       "      <th>municipality</th>\n",
       "      <th>gps_code</th>\n",
       "      <th>iata_code</th>\n",
       "      <th>local_code</th>\n",
       "      <th>coordinates</th>\n",
       "    </tr>\n",
       "  </thead>\n",
       "  <tbody>\n",
       "    <tr>\n",
       "      <th>0</th>\n",
       "      <td>00A</td>\n",
       "      <td>heliport</td>\n",
       "      <td>Total Rf Heliport</td>\n",
       "      <td>11.0</td>\n",
       "      <td>NaN</td>\n",
       "      <td>US</td>\n",
       "      <td>US-PA</td>\n",
       "      <td>Bensalem</td>\n",
       "      <td>00A</td>\n",
       "      <td>NaN</td>\n",
       "      <td>00A</td>\n",
       "      <td>-74.93360137939453, 40.07080078125</td>\n",
       "    </tr>\n",
       "    <tr>\n",
       "      <th>1</th>\n",
       "      <td>00AA</td>\n",
       "      <td>small_airport</td>\n",
       "      <td>Aero B Ranch Airport</td>\n",
       "      <td>3435.0</td>\n",
       "      <td>NaN</td>\n",
       "      <td>US</td>\n",
       "      <td>US-KS</td>\n",
       "      <td>Leoti</td>\n",
       "      <td>00AA</td>\n",
       "      <td>NaN</td>\n",
       "      <td>00AA</td>\n",
       "      <td>-101.473911, 38.704022</td>\n",
       "    </tr>\n",
       "    <tr>\n",
       "      <th>2</th>\n",
       "      <td>00AK</td>\n",
       "      <td>small_airport</td>\n",
       "      <td>Lowell Field</td>\n",
       "      <td>450.0</td>\n",
       "      <td>NaN</td>\n",
       "      <td>US</td>\n",
       "      <td>US-AK</td>\n",
       "      <td>Anchor Point</td>\n",
       "      <td>00AK</td>\n",
       "      <td>NaN</td>\n",
       "      <td>00AK</td>\n",
       "      <td>-151.695999146, 59.94919968</td>\n",
       "    </tr>\n",
       "    <tr>\n",
       "      <th>3</th>\n",
       "      <td>00AL</td>\n",
       "      <td>small_airport</td>\n",
       "      <td>Epps Airpark</td>\n",
       "      <td>820.0</td>\n",
       "      <td>NaN</td>\n",
       "      <td>US</td>\n",
       "      <td>US-AL</td>\n",
       "      <td>Harvest</td>\n",
       "      <td>00AL</td>\n",
       "      <td>NaN</td>\n",
       "      <td>00AL</td>\n",
       "      <td>-86.77030181884766, 34.86479949951172</td>\n",
       "    </tr>\n",
       "    <tr>\n",
       "      <th>4</th>\n",
       "      <td>00AR</td>\n",
       "      <td>closed</td>\n",
       "      <td>Newport Hospital &amp; Clinic Heliport</td>\n",
       "      <td>237.0</td>\n",
       "      <td>NaN</td>\n",
       "      <td>US</td>\n",
       "      <td>US-AR</td>\n",
       "      <td>Newport</td>\n",
       "      <td>NaN</td>\n",
       "      <td>NaN</td>\n",
       "      <td>NaN</td>\n",
       "      <td>-91.254898, 35.6087</td>\n",
       "    </tr>\n",
       "  </tbody>\n",
       "</table>\n",
       "</div>"
      ],
      "text/plain": [
       "  ident           type                                name  elevation_ft continent iso_country iso_region  municipality gps_code iata_code local_code  \\\n",
       "0   00A       heliport                   Total Rf Heliport          11.0       NaN          US      US-PA      Bensalem      00A       NaN        00A   \n",
       "1  00AA  small_airport                Aero B Ranch Airport        3435.0       NaN          US      US-KS         Leoti     00AA       NaN       00AA   \n",
       "2  00AK  small_airport                        Lowell Field         450.0       NaN          US      US-AK  Anchor Point     00AK       NaN       00AK   \n",
       "3  00AL  small_airport                        Epps Airpark         820.0       NaN          US      US-AL       Harvest     00AL       NaN       00AL   \n",
       "4  00AR         closed  Newport Hospital & Clinic Heliport         237.0       NaN          US      US-AR       Newport      NaN       NaN        NaN   \n",
       "\n",
       "                             coordinates  \n",
       "0     -74.93360137939453, 40.07080078125  \n",
       "1                 -101.473911, 38.704022  \n",
       "2            -151.695999146, 59.94919968  \n",
       "3  -86.77030181884766, 34.86479949951172  \n",
       "4                    -91.254898, 35.6087  "
      ]
     },
     "execution_count": 8,
     "metadata": {},
     "output_type": "execute_result"
    }
   ],
   "source": [
    "airport_df.head()"
   ]
  },
  {
   "cell_type": "markdown",
   "metadata": {
    "editable": true
   },
   "source": []
  },
  {
   "cell_type": "code",
   "execution_count": 20,
   "metadata": {
    "editable": true
   },
   "outputs": [
    {
     "name": "stdout",
     "output_type": "stream",
     "text": [
      "\n",
      "\n",
      "---------------------\n",
      "DATAFRAME INFORMATION\n",
      "---------------------\n",
      "Dataframe shape: (55075, 12) \n",
      "\n",
      "Column Headers: ['ident', 'type', 'name', 'elevation_ft', 'continent', 'iso_country', 'iso_region', 'municipality', 'gps_code', 'iata_code', 'local_code', 'coordinates'] \n",
      "\n",
      "ident            object\n",
      "type             object\n",
      "name             object\n",
      "elevation_ft    float64\n",
      "continent        object\n",
      "iso_country      object\n",
      "iso_region       object\n",
      "municipality     object\n",
      "gps_code         object\n",
      "iata_code        object\n",
      "local_code       object\n",
      "coordinates      object\n",
      "dtype: object\n"
     ]
    }
   ],
   "source": [
    "tools.print_dataframe_info(airport_df)"
   ]
  },
  {
   "cell_type": "code",
   "execution_count": 10,
   "metadata": {
    "editable": true
   },
   "outputs": [
    {
     "name": "stdout",
     "output_type": "stream",
     "text": [
      "ident has 55075 unique values\n",
      "Listing up to 10 unique values:\n",
      "['00A' '00AA' '00AK' '00AL' '00AR' '00AS' '00AZ' '00CA' '00CL' '00CN']\n",
      "\n",
      "---------------------\n",
      "\n",
      "type has 7 unique values\n",
      "name has 52144 unique values\n",
      "Listing up to 10 unique values:\n",
      "['Total Rf Heliport' 'Aero B Ranch Airport' 'Lowell Field' 'Epps Airpark'\n",
      " 'Newport Hospital & Clinic Heliport' 'Fulton Airport' 'Cordes Airport'\n",
      " 'Goldstone /Gts/ Airport' 'Williams Ag Airport'\n",
      " 'Kitchen Creek Helibase Heliport']\n",
      "\n",
      "---------------------\n",
      "\n",
      "elevation_ft has 5450 unique values\n",
      "Listing up to 10 unique values:\n",
      "[  11. 3435.  450.  820.  237. 1100. 3810. 3038.   87. 3350.]\n",
      "\n",
      "---------------------\n",
      "\n",
      "continent has 7 unique values\n",
      "iso_country has 244 unique values\n",
      "Listing up to 10 unique values:\n",
      "['US' 'PR' 'MH' 'MP' 'GU' 'SO' 'AQ' 'GB' 'PG' 'AD']\n",
      "\n",
      "---------------------\n",
      "\n",
      "iso_region has 2810 unique values\n",
      "Listing up to 10 unique values:\n",
      "['US-PA' 'US-KS' 'US-AK' 'US-AL' 'US-AR' 'US-OK' 'US-AZ' 'US-CA' 'US-CO'\n",
      " 'US-FL']\n",
      "\n",
      "---------------------\n",
      "\n",
      "municipality has 27134 unique values\n",
      "Listing up to 10 unique values:\n",
      "['Bensalem' 'Leoti' 'Anchor Point' 'Harvest' 'Newport' 'Alex' 'Cordes'\n",
      " 'Barstow' 'Biggs' 'Pine Valley']\n",
      "\n",
      "---------------------\n",
      "\n",
      "gps_code has 40851 unique values\n",
      "Listing up to 10 unique values:\n",
      "['00A' '00AA' '00AK' '00AL' nan '00AS' '00AZ' '00CA' '00CL' '00CN']\n",
      "\n",
      "---------------------\n",
      "\n",
      "iata_code has 9043 unique values\n",
      "Listing up to 10 unique values:\n",
      "[nan 'UTK' 'OCA' 'PQS' 'CSE' 'JCY' 'PMX' 'WLR' 'NUP' 'PTC']\n",
      "\n",
      "---------------------\n",
      "\n",
      "local_code has 27437 unique values\n",
      "Listing up to 10 unique values:\n",
      "['00A' '00AA' '00AK' '00AL' nan '00AS' '00AZ' '00CA' '00CL' '00CN']\n",
      "\n",
      "---------------------\n",
      "\n",
      "coordinates has 54874 unique values\n",
      "Listing up to 10 unique values:\n",
      "['-74.93360137939453, 40.07080078125' '-101.473911, 38.704022'\n",
      " '-151.695999146, 59.94919968' '-86.77030181884766, 34.86479949951172'\n",
      " '-91.254898, 35.6087' '-97.8180194, 34.9428028'\n",
      " '-112.16500091552734, 34.305599212646484'\n",
      " '-116.888000488, 35.350498199499995' '-121.763427, 39.427188'\n",
      " '-116.4597417, 32.7273736']\n",
      "\n",
      "---------------------\n",
      "\n",
      "\n",
      "~~~~~~~~~~~~~~~~~~~~~~\n",
      "\n",
      "Features with missing values:\n",
      "\n",
      "7006 is missing in elevation_ft, 12.7208352246936%.\n",
      "\n",
      "27719 is missing in continent, 50.32955061280072%.\n",
      "\n",
      "247 is missing in iso_country, 0.448479346345892%.\n",
      "\n",
      "5676 is missing in municipality, 10.305946436677258%.\n",
      "\n",
      "14045 is missing in gps_code, 25.501588742623696%.\n",
      "\n",
      "45886 is missing in iata_code, 83.31547889241943%.\n",
      "\n",
      "26389 is missing in local_code, 47.91466182478438%.\n",
      "\n",
      "Features with non-numeric values:\n",
      "\n",
      "['ident', 'type', 'name', 'continent', 'iso_country', 'iso_region', 'municipality', 'gps_code', 'iata_code', 'local_code', 'coordinates']\n",
      "\n",
      "~~~~~~~~~~~~~~~~~~~~~~\n",
      "\n"
     ]
    }
   ],
   "source": [
    "tools.print_dataframe_report(airport_df)"
   ]
  },
  {
   "cell_type": "code",
   "execution_count": 11,
   "metadata": {
    "editable": true
   },
   "outputs": [
    {
     "data": {
      "text/plain": [
       "<matplotlib.axes._subplots.AxesSubplot at 0x7f1c21350c18>"
      ]
     },
     "execution_count": 11,
     "metadata": {},
     "output_type": "execute_result"
    },
    {
     "data": {
      "image/png": "[encoded data removed]",
      "text/plain": [
       "<matplotlib.figure.Figure at 0x7f1c213ef860>"
      ]
     },
     "metadata": {
      "needs_background": "light"
     },
     "output_type": "display_data"
    }
   ],
   "source": [
    "# Display missing values in matrix\n",
    "\n",
    "msno.matrix(airport_df)"
   ]
  },
  {
   "cell_type": "code",
   "execution_count": null,
   "metadata": {
    "editable": true
   },
   "outputs": [],
   "source": []
  },
  {
   "cell_type": "markdown",
   "metadata": {
    "editable": true
   },
   "source": [
    "#### Temperature Data"
   ]
  },
  {
   "cell_type": "code",
   "execution_count": null,
   "metadata": {
    "editable": true
   },
   "outputs": [],
   "source": [
    "# read data in"
   ]
  },
  {
   "cell_type": "code",
   "execution_count": 7,
   "metadata": {
    "editable": true
   },
   "outputs": [],
   "source": [
    "fname = '../../data2/GlobalLandTemperaturesByCity.csv'\n",
    "temperature_df = pd.read_csv(fname)"
   ]
  },
  {
   "cell_type": "code",
   "execution_count": 14,
   "metadata": {
    "editable": true
   },
   "outputs": [
    {
     "data": {
      "text/html": [
       "<div>\n",
       "<style scoped>\n",
       "    .dataframe tbody tr th:only-of-type {\n",
       "        vertical-align: middle;\n",
       "    }\n",
       "\n",
       "    .dataframe tbody tr th {\n",
       "        vertical-align: top;\n",
       "    }\n",
       "\n",
       "    .dataframe thead th {\n",
       "        text-align: right;\n",
       "    }\n",
       "</style>\n",
       "<table border=\"1\" class=\"dataframe\">\n",
       "  <thead>\n",
       "    <tr style=\"text-align: right;\">\n",
       "      <th></th>\n",
       "      <th>dt</th>\n",
       "      <th>AverageTemperature</th>\n",
       "      <th>AverageTemperatureUncertainty</th>\n",
       "      <th>City</th>\n",
       "      <th>Country</th>\n",
       "      <th>Latitude</th>\n",
       "      <th>Longitude</th>\n",
       "    </tr>\n",
       "  </thead>\n",
       "  <tbody>\n",
       "    <tr>\n",
       "      <th>0</th>\n",
       "      <td>1743-11-01</td>\n",
       "      <td>6.068</td>\n",
       "      <td>1.737</td>\n",
       "      <td>Århus</td>\n",
       "      <td>Denmark</td>\n",
       "      <td>57.05N</td>\n",
       "      <td>10.33E</td>\n",
       "    </tr>\n",
       "    <tr>\n",
       "      <th>1</th>\n",
       "      <td>1743-12-01</td>\n",
       "      <td>NaN</td>\n",
       "      <td>NaN</td>\n",
       "      <td>Århus</td>\n",
       "      <td>Denmark</td>\n",
       "      <td>57.05N</td>\n",
       "      <td>10.33E</td>\n",
       "    </tr>\n",
       "    <tr>\n",
       "      <th>2</th>\n",
       "      <td>1744-01-01</td>\n",
       "      <td>NaN</td>\n",
       "      <td>NaN</td>\n",
       "      <td>Århus</td>\n",
       "      <td>Denmark</td>\n",
       "      <td>57.05N</td>\n",
       "      <td>10.33E</td>\n",
       "    </tr>\n",
       "    <tr>\n",
       "      <th>3</th>\n",
       "      <td>1744-02-01</td>\n",
       "      <td>NaN</td>\n",
       "      <td>NaN</td>\n",
       "      <td>Århus</td>\n",
       "      <td>Denmark</td>\n",
       "      <td>57.05N</td>\n",
       "      <td>10.33E</td>\n",
       "    </tr>\n",
       "    <tr>\n",
       "      <th>4</th>\n",
       "      <td>1744-03-01</td>\n",
       "      <td>NaN</td>\n",
       "      <td>NaN</td>\n",
       "      <td>Århus</td>\n",
       "      <td>Denmark</td>\n",
       "      <td>57.05N</td>\n",
       "      <td>10.33E</td>\n",
       "    </tr>\n",
       "  </tbody>\n",
       "</table>\n",
       "</div>"
      ],
      "text/plain": [
       "           dt  AverageTemperature  AverageTemperatureUncertainty   City  Country Latitude Longitude\n",
       "0  1743-11-01               6.068                          1.737  Århus  Denmark   57.05N    10.33E\n",
       "1  1743-12-01                 NaN                            NaN  Århus  Denmark   57.05N    10.33E\n",
       "2  1744-01-01                 NaN                            NaN  Århus  Denmark   57.05N    10.33E\n",
       "3  1744-02-01                 NaN                            NaN  Århus  Denmark   57.05N    10.33E\n",
       "4  1744-03-01                 NaN                            NaN  Århus  Denmark   57.05N    10.33E"
      ]
     },
     "execution_count": 14,
     "metadata": {},
     "output_type": "execute_result"
    }
   ],
   "source": [
    "temperature_df.head()"
   ]
  },
  {
   "cell_type": "code",
   "execution_count": 8,
   "metadata": {
    "editable": true
   },
   "outputs": [
    {
     "name": "stdout",
     "output_type": "stream",
     "text": [
      "\n",
      "\n",
      "---------------------\n",
      "DATAFRAME INFORMATION\n",
      "---------------------\n",
      "Dataframe shape: (8599212, 7) \n",
      "\n",
      "Column Headers: ['dt', 'AverageTemperature', 'AverageTemperatureUncertainty', 'City', 'Country', 'Latitude', 'Longitude'] \n",
      "\n",
      "dt                                object\n",
      "AverageTemperature               float64\n",
      "AverageTemperatureUncertainty    float64\n",
      "City                              object\n",
      "Country                           object\n",
      "Latitude                          object\n",
      "Longitude                         object\n",
      "dtype: object\n"
     ]
    }
   ],
   "source": [
    "tools.print_dataframe_info(temperature_df)"
   ]
  },
  {
   "cell_type": "code",
   "execution_count": 12,
   "metadata": {
    "editable": true
   },
   "outputs": [
    {
     "name": "stdout",
     "output_type": "stream",
     "text": [
      "dt has 3239 unique values\n",
      "Listing up to 10 unique values:\n",
      "['1743-11-01' '1743-12-01' '1744-01-01' '1744-02-01' '1744-03-01'\n",
      " '1744-04-01' '1744-05-01' '1744-06-01' '1744-07-01' '1744-08-01']\n",
      "\n",
      "---------------------\n",
      "\n",
      "AverageTemperature has 111995 unique values\n",
      "Listing up to 10 unique values:\n",
      "[ 6.068    nan  5.788 10.644 14.051 16.082 12.781  7.95   4.639  0.122]\n",
      "\n",
      "---------------------\n",
      "\n",
      "AverageTemperatureUncertainty has 10903 unique values\n",
      "Listing up to 10 unique values:\n",
      "[1.737   nan 3.624 1.283 1.347 1.396 1.454 1.63  1.302 1.756]\n",
      "\n",
      "---------------------\n",
      "\n",
      "City has 3448 unique values\n",
      "Listing up to 10 unique values:\n",
      "['Århus' 'Çorlu' 'Çorum' 'Öskemen' 'Ürümqi' 'A Coruña' 'Aachen' 'Aalborg'\n",
      " 'Aba' 'Abadan']\n",
      "\n",
      "---------------------\n",
      "\n",
      "Country has 159 unique values\n",
      "Listing up to 10 unique values:\n",
      "['Denmark' 'Turkey' 'Kazakhstan' 'China' 'Spain' 'Germany' 'Nigeria'\n",
      " 'Iran' 'Russia' 'Canada']\n",
      "\n",
      "---------------------\n",
      "\n",
      "Latitude has 73 unique values\n",
      "Listing up to 10 unique values:\n",
      "['57.05N' '40.99N' '50.63N' '44.20N' '42.59N' '5.63N' '29.74N' '53.84N'\n",
      " '49.03N' '7.23N']\n",
      "\n",
      "---------------------\n",
      "\n",
      "Longitude has 1227 unique values\n",
      "Listing up to 10 unique values:\n",
      "['10.33E' '27.69E' '34.08E' '82.39E' '87.20E' '8.73W' '6.34E' '8.07E'\n",
      " '48.00E' '91.36E']\n",
      "\n",
      "---------------------\n",
      "\n",
      "\n",
      "~~~~~~~~~~~~~~~~~~~~~~\n",
      "\n",
      "Features with missing values:\n",
      "\n",
      "364130 is missing in AverageTemperature, 4.234457761943768%.\n",
      "\n",
      "364130 is missing in AverageTemperatureUncertainty, 4.234457761943768%.\n",
      "\n",
      "Features with non-numeric values:\n",
      "\n",
      "['dt', 'City', 'Country', 'Latitude', 'Longitude']\n",
      "\n",
      "~~~~~~~~~~~~~~~~~~~~~~\n",
      "\n"
     ]
    }
   ],
   "source": [
    "tools.print_dataframe_report(temperature_df)"
   ]
  },
  {
   "cell_type": "code",
   "execution_count": null,
   "metadata": {
    "editable": true
   },
   "outputs": [
    {
     "data": {
      "text/plain": [
       "<matplotlib.axes._subplots.AxesSubplot at 0x7fa9d4e20a58>"
      ]
     },
     "execution_count": 10,
     "metadata": {},
     "output_type": "execute_result"
    }
   ],
   "source": [
    "# Display missing values in matrix\n",
    "# WARNING: This takes a long time to run\n",
    "\n",
    "# msno.matrix(temperature_df)"
   ]
  },
  {
   "cell_type": "markdown",
   "metadata": {
    "editable": true
   },
   "source": [
    "#### Immigration Data"
   ]
  },
  {
   "cell_type": "code",
   "execution_count": null,
   "metadata": {
    "editable": true
   },
   "outputs": [],
   "source": [
    "# read data in"
   ]
  },
  {
   "cell_type": "code",
   "execution_count": 8,
   "metadata": {
    "editable": true
   },
   "outputs": [],
   "source": [
    "immigration_data = 'immigration_data_sample.csv'\n",
    "immigration_df = pd.read_csv(immigration_data)"
   ]
  },
  {
   "cell_type": "code",
   "execution_count": 16,
   "metadata": {
    "editable": true
   },
   "outputs": [
    {
     "data": {
      "text/html": [
       "<div>\n",
       "<style scoped>\n",
       "    .dataframe tbody tr th:only-of-type {\n",
       "        vertical-align: middle;\n",
       "    }\n",
       "\n",
       "    .dataframe tbody tr th {\n",
       "        vertical-align: top;\n",
       "    }\n",
       "\n",
       "    .dataframe thead th {\n",
       "        text-align: right;\n",
       "    }\n",
       "</style>\n",
       "<table border=\"1\" class=\"dataframe\">\n",
       "  <thead>\n",
       "    <tr style=\"text-align: right;\">\n",
       "      <th></th>\n",
       "      <th>Unnamed: 0</th>\n",
       "      <th>cicid</th>\n",
       "      <th>i94yr</th>\n",
       "      <th>i94mon</th>\n",
       "      <th>i94cit</th>\n",
       "      <th>i94res</th>\n",
       "      <th>i94port</th>\n",
       "      <th>arrdate</th>\n",
       "      <th>i94mode</th>\n",
       "      <th>i94addr</th>\n",
       "      <th>depdate</th>\n",
       "      <th>i94bir</th>\n",
       "      <th>i94visa</th>\n",
       "      <th>count</th>\n",
       "      <th>dtadfile</th>\n",
       "      <th>visapost</th>\n",
       "      <th>occup</th>\n",
       "      <th>entdepa</th>\n",
       "      <th>entdepd</th>\n",
       "      <th>entdepu</th>\n",
       "      <th>matflag</th>\n",
       "      <th>biryear</th>\n",
       "      <th>dtaddto</th>\n",
       "      <th>gender</th>\n",
       "      <th>insnum</th>\n",
       "      <th>airline</th>\n",
       "      <th>admnum</th>\n",
       "      <th>fltno</th>\n",
       "      <th>visatype</th>\n",
       "    </tr>\n",
       "  </thead>\n",
       "  <tbody>\n",
       "    <tr>\n",
       "      <th>0</th>\n",
       "      <td>2027561</td>\n",
       "      <td>4084316.0</td>\n",
       "      <td>2016.0</td>\n",
       "      <td>4.0</td>\n",
       "      <td>209.0</td>\n",
       "      <td>209.0</td>\n",
       "      <td>HHW</td>\n",
       "      <td>20566.0</td>\n",
       "      <td>1.0</td>\n",
       "      <td>HI</td>\n",
       "      <td>20573.0</td>\n",
       "      <td>61.0</td>\n",
       "      <td>2.0</td>\n",
       "      <td>1.0</td>\n",
       "      <td>20160422</td>\n",
       "      <td>NaN</td>\n",
       "      <td>NaN</td>\n",
       "      <td>G</td>\n",
       "      <td>O</td>\n",
       "      <td>NaN</td>\n",
       "      <td>M</td>\n",
       "      <td>1955.0</td>\n",
       "      <td>07202016</td>\n",
       "      <td>F</td>\n",
       "      <td>NaN</td>\n",
       "      <td>JL</td>\n",
       "      <td>5.658267e+10</td>\n",
       "      <td>00782</td>\n",
       "      <td>WT</td>\n",
       "    </tr>\n",
       "    <tr>\n",
       "      <th>1</th>\n",
       "      <td>2171295</td>\n",
       "      <td>4422636.0</td>\n",
       "      <td>2016.0</td>\n",
       "      <td>4.0</td>\n",
       "      <td>582.0</td>\n",
       "      <td>582.0</td>\n",
       "      <td>MCA</td>\n",
       "      <td>20567.0</td>\n",
       "      <td>1.0</td>\n",
       "      <td>TX</td>\n",
       "      <td>20568.0</td>\n",
       "      <td>26.0</td>\n",
       "      <td>2.0</td>\n",
       "      <td>1.0</td>\n",
       "      <td>20160423</td>\n",
       "      <td>MTR</td>\n",
       "      <td>NaN</td>\n",
       "      <td>G</td>\n",
       "      <td>R</td>\n",
       "      <td>NaN</td>\n",
       "      <td>M</td>\n",
       "      <td>1990.0</td>\n",
       "      <td>10222016</td>\n",
       "      <td>M</td>\n",
       "      <td>NaN</td>\n",
       "      <td>*GA</td>\n",
       "      <td>9.436200e+10</td>\n",
       "      <td>XBLNG</td>\n",
       "      <td>B2</td>\n",
       "    </tr>\n",
       "    <tr>\n",
       "      <th>2</th>\n",
       "      <td>589494</td>\n",
       "      <td>1195600.0</td>\n",
       "      <td>2016.0</td>\n",
       "      <td>4.0</td>\n",
       "      <td>148.0</td>\n",
       "      <td>112.0</td>\n",
       "      <td>OGG</td>\n",
       "      <td>20551.0</td>\n",
       "      <td>1.0</td>\n",
       "      <td>FL</td>\n",
       "      <td>20571.0</td>\n",
       "      <td>76.0</td>\n",
       "      <td>2.0</td>\n",
       "      <td>1.0</td>\n",
       "      <td>20160407</td>\n",
       "      <td>NaN</td>\n",
       "      <td>NaN</td>\n",
       "      <td>G</td>\n",
       "      <td>O</td>\n",
       "      <td>NaN</td>\n",
       "      <td>M</td>\n",
       "      <td>1940.0</td>\n",
       "      <td>07052016</td>\n",
       "      <td>M</td>\n",
       "      <td>NaN</td>\n",
       "      <td>LH</td>\n",
       "      <td>5.578047e+10</td>\n",
       "      <td>00464</td>\n",
       "      <td>WT</td>\n",
       "    </tr>\n",
       "    <tr>\n",
       "      <th>3</th>\n",
       "      <td>2631158</td>\n",
       "      <td>5291768.0</td>\n",
       "      <td>2016.0</td>\n",
       "      <td>4.0</td>\n",
       "      <td>297.0</td>\n",
       "      <td>297.0</td>\n",
       "      <td>LOS</td>\n",
       "      <td>20572.0</td>\n",
       "      <td>1.0</td>\n",
       "      <td>CA</td>\n",
       "      <td>20581.0</td>\n",
       "      <td>25.0</td>\n",
       "      <td>2.0</td>\n",
       "      <td>1.0</td>\n",
       "      <td>20160428</td>\n",
       "      <td>DOH</td>\n",
       "      <td>NaN</td>\n",
       "      <td>G</td>\n",
       "      <td>O</td>\n",
       "      <td>NaN</td>\n",
       "      <td>M</td>\n",
       "      <td>1991.0</td>\n",
       "      <td>10272016</td>\n",
       "      <td>M</td>\n",
       "      <td>NaN</td>\n",
       "      <td>QR</td>\n",
       "      <td>9.478970e+10</td>\n",
       "      <td>00739</td>\n",
       "      <td>B2</td>\n",
       "    </tr>\n",
       "    <tr>\n",
       "      <th>4</th>\n",
       "      <td>3032257</td>\n",
       "      <td>985523.0</td>\n",
       "      <td>2016.0</td>\n",
       "      <td>4.0</td>\n",
       "      <td>111.0</td>\n",
       "      <td>111.0</td>\n",
       "      <td>CHM</td>\n",
       "      <td>20550.0</td>\n",
       "      <td>3.0</td>\n",
       "      <td>NY</td>\n",
       "      <td>20553.0</td>\n",
       "      <td>19.0</td>\n",
       "      <td>2.0</td>\n",
       "      <td>1.0</td>\n",
       "      <td>20160406</td>\n",
       "      <td>NaN</td>\n",
       "      <td>NaN</td>\n",
       "      <td>Z</td>\n",
       "      <td>K</td>\n",
       "      <td>NaN</td>\n",
       "      <td>M</td>\n",
       "      <td>1997.0</td>\n",
       "      <td>07042016</td>\n",
       "      <td>F</td>\n",
       "      <td>NaN</td>\n",
       "      <td>NaN</td>\n",
       "      <td>4.232257e+10</td>\n",
       "      <td>LAND</td>\n",
       "      <td>WT</td>\n",
       "    </tr>\n",
       "  </tbody>\n",
       "</table>\n",
       "</div>"
      ],
      "text/plain": [
       "   Unnamed: 0      cicid   i94yr  i94mon  i94cit  i94res i94port  arrdate  i94mode i94addr  depdate  i94bir  i94visa  count  dtadfile visapost occup entdepa entdepd  \\\n",
       "0     2027561  4084316.0  2016.0     4.0   209.0   209.0     HHW  20566.0      1.0      HI  20573.0    61.0      2.0    1.0  20160422      NaN   NaN       G       O   \n",
       "1     2171295  4422636.0  2016.0     4.0   582.0   582.0     MCA  20567.0      1.0      TX  20568.0    26.0      2.0    1.0  20160423      MTR   NaN       G       R   \n",
       "2      589494  1195600.0  2016.0     4.0   148.0   112.0     OGG  20551.0      1.0      FL  20571.0    76.0      2.0    1.0  20160407      NaN   NaN       G       O   \n",
       "3     2631158  5291768.0  2016.0     4.0   297.0   297.0     LOS  20572.0      1.0      CA  20581.0    25.0      2.0    1.0  20160428      DOH   NaN       G       O   \n",
       "4     3032257   985523.0  2016.0     4.0   111.0   111.0     CHM  20550.0      3.0      NY  20553.0    19.0      2.0    1.0  20160406      NaN   NaN       Z       K   \n",
       "\n",
       "   entdepu matflag  biryear   dtaddto gender  insnum airline        admnum  fltno visatype  \n",
       "0      NaN       M   1955.0  07202016      F     NaN      JL  5.658267e+10  00782       WT  \n",
       "1      NaN       M   1990.0  10222016      M     NaN     *GA  9.436200e+10  XBLNG       B2  \n",
       "2      NaN       M   1940.0  07052016      M     NaN      LH  5.578047e+10  00464       WT  \n",
       "3      NaN       M   1991.0  10272016      M     NaN      QR  9.478970e+10  00739       B2  \n",
       "4      NaN       M   1997.0  07042016      F     NaN     NaN  4.232257e+10   LAND       WT  "
      ]
     },
     "execution_count": 16,
     "metadata": {},
     "output_type": "execute_result"
    }
   ],
   "source": [
    "immigration_df.head()"
   ]
  },
  {
   "cell_type": "code",
   "execution_count": 6,
   "metadata": {
    "editable": true
   },
   "outputs": [
    {
     "name": "stdout",
     "output_type": "stream",
     "text": [
      "\n",
      "\n",
      "---------------------\n",
      "DATAFRAME INFORMATION\n",
      "---------------------\n",
      "Dataframe shape: (1000, 29) \n",
      "\n",
      "Column Headers: ['Unnamed: 0', 'cicid', 'i94yr', 'i94mon', 'i94cit', 'i94res', 'i94port', 'arrdate', 'i94mode', 'i94addr', 'depdate', 'i94bir', 'i94visa', 'count', 'dtadfile', 'visapost', 'occup', 'entdepa', 'entdepd', 'entdepu', 'matflag', 'biryear', 'dtaddto', 'gender', 'insnum', 'airline', 'admnum', 'fltno', 'visatype'] \n",
      "\n",
      "Unnamed: 0      int64\n",
      "cicid         float64\n",
      "i94yr         float64\n",
      "i94mon        float64\n",
      "i94cit        float64\n",
      "i94res        float64\n",
      "i94port        object\n",
      "arrdate       float64\n",
      "i94mode       float64\n",
      "i94addr        object\n",
      "depdate       float64\n",
      "i94bir        float64\n",
      "i94visa       float64\n",
      "count         float64\n",
      "dtadfile        int64\n",
      "visapost       object\n",
      "occup          object\n",
      "entdepa        object\n",
      "entdepd        object\n",
      "entdepu       float64\n",
      "matflag        object\n",
      "biryear       float64\n",
      "dtaddto        object\n",
      "gender         object\n",
      "insnum        float64\n",
      "airline        object\n",
      "admnum        float64\n",
      "fltno          object\n",
      "visatype       object\n",
      "dtype: object\n"
     ]
    }
   ],
   "source": [
    "tools.print_dataframe_info(immigration_df)"
   ]
  },
  {
   "cell_type": "code",
   "execution_count": 14,
   "metadata": {
    "editable": true
   },
   "outputs": [
    {
     "name": "stdout",
     "output_type": "stream",
     "text": [
      "Unnamed: 0 has 1000 unique values\n",
      "Listing up to 10 unique values:\n",
      "[2027561 2171295  589494 2631158 3032257  721257 1072780  112205 2577162\n",
      "   10930]\n",
      "\n",
      "---------------------\n",
      "\n",
      "cicid has 1000 unique values\n",
      "Listing up to 10 unique values:\n",
      "[4084316. 4422636. 1195600. 5291768.  985523. 1481650. 2197173.  232708.\n",
      " 5227851.   13213.]\n",
      "\n",
      "---------------------\n",
      "\n",
      "i94yr has 1 unique values\n",
      "i94mon has 1 unique values\n",
      "i94cit has 88 unique values\n",
      "Listing up to 10 unique values:\n",
      "[209. 582. 148. 297. 111. 577. 245. 113. 131. 116.]\n",
      "\n",
      "---------------------\n",
      "\n",
      "i94res has 91 unique values\n",
      "Listing up to 10 unique values:\n",
      "[209. 582. 112. 297. 111. 577. 245. 135. 131. 116.]\n",
      "\n",
      "---------------------\n",
      "\n",
      "i94port has 70 unique values\n",
      "Listing up to 10 unique values:\n",
      "['HHW' 'MCA' 'OGG' 'LOS' 'CHM' 'ATL' 'SFR' 'NYC' 'CHI' 'PHI']\n",
      "\n",
      "---------------------\n",
      "\n",
      "arrdate has 30 unique values\n",
      "Listing up to 10 unique values:\n",
      "[20566. 20567. 20551. 20572. 20550. 20552. 20556. 20546. 20545. 20571.]\n",
      "\n",
      "---------------------\n",
      "\n",
      "i94mode has 4 unique values\n",
      "i94addr has 52 unique values\n",
      "Listing up to 10 unique values:\n",
      "['HI' 'TX' 'FL' 'CA' 'NY' 'GA' 'IL' nan 'MA' 'NV']\n",
      "\n",
      "---------------------\n",
      "\n",
      "depdate has 110 unique values\n",
      "Listing up to 10 unique values:\n",
      "[20573. 20568. 20571. 20581. 20553. 20606. 20635. 20554. 20575. 20565.]\n",
      "\n",
      "---------------------\n",
      "\n",
      "i94bir has 85 unique values\n",
      "Listing up to 10 unique values:\n",
      "[61. 26. 76. 25. 19. 51. 48. 33. 39. 35.]\n",
      "\n",
      "---------------------\n",
      "\n",
      "i94visa has 3 unique values\n",
      "count has 1 unique values\n",
      "dtadfile has 39 unique values\n",
      "Listing up to 10 unique values:\n",
      "[20160422 20160423 20160407 20160428 20160406 20160408 20160412 20160402\n",
      " 20160401 20160427]\n",
      "\n",
      "---------------------\n",
      "\n",
      "visapost has 98 unique values\n",
      "Listing up to 10 unique values:\n",
      "[nan 'MTR' 'DOH' 'MNL' 'NSS' 'MOS' 'TLV' 'MDR' 'MEX' 'IST']\n",
      "\n",
      "---------------------\n",
      "\n",
      "occup has 4 unique values\n",
      "entdepa has 9 unique values\n",
      "entdepd has 11 unique values\n",
      "Listing up to 10 unique values:\n",
      "['O' 'R' 'K' 'N' 'D' nan 'I' 'Q' 'J' 'W']\n",
      "\n",
      "---------------------\n",
      "\n",
      "entdepu has 1 unique values\n",
      "matflag has 2 unique values\n",
      "biryear has 85 unique values\n",
      "Listing up to 10 unique values:\n",
      "[1955. 1990. 1940. 1991. 1997. 1965. 1968. 1983. 1977. 1981.]\n",
      "\n",
      "---------------------\n",
      "\n",
      "dtaddto has 99 unique values\n",
      "Listing up to 10 unique values:\n",
      "['07202016' '10222016' '07052016' '10272016' '07042016' '10072016'\n",
      " '10112016' '06302016' '07262016' '06292016']\n",
      "\n",
      "---------------------\n",
      "\n",
      "gender has 4 unique values\n",
      "insnum has 30 unique values\n",
      "Listing up to 10 unique values:\n",
      "[  nan 3882. 3943. 3971. 3993. 3691. 3693. 3979. 3468. 3969.]\n",
      "\n",
      "---------------------\n",
      "\n",
      "airline has 102 unique values\n",
      "Listing up to 10 unique values:\n",
      "['JL' '*GA' 'LH' 'QR' nan 'DL' 'CX' 'BA' 'LX' 'AA']\n",
      "\n",
      "---------------------\n",
      "\n",
      "admnum has 1000 unique values\n",
      "Listing up to 10 unique values:\n",
      "[5.65826746e+10 9.43619959e+10 5.57804684e+10 9.47896960e+10\n",
      " 4.23225726e+10 7.36852585e+08 7.86312185e+08 5.54744850e+10\n",
      " 5.94134247e+10 5.54497929e+10]\n",
      "\n",
      "---------------------\n",
      "\n",
      "fltno has 503 unique values\n",
      "Listing up to 10 unique values:\n",
      "['00782' 'XBLNG' '00464' '00739' 'LAND' '910' '870' '00117' '00008'\n",
      " '00109']\n",
      "\n",
      "---------------------\n",
      "\n",
      "visatype has 10 unique values\n",
      "\n",
      "~~~~~~~~~~~~~~~~~~~~~~\n",
      "\n",
      "Features with missing values:\n",
      "\n",
      "59 is missing in i94addr, 5.9%.\n",
      "\n",
      "49 is missing in depdate, 4.9%.\n",
      "\n",
      "618 is missing in visapost, 61.8%.\n",
      "\n",
      "996 is missing in occup, 99.6%.\n",
      "\n",
      "46 is missing in entdepd, 4.6%.\n",
      "\n",
      "1000 is missing in entdepu, 100.0%.\n",
      "\n",
      "46 is missing in matflag, 4.6%.\n",
      "\n",
      "141 is missing in gender, 14.1%.\n",
      "\n",
      "965 is missing in insnum, 96.5%.\n",
      "\n",
      "33 is missing in airline, 3.3%.\n",
      "\n",
      "8 is missing in fltno, 0.8%.\n",
      "\n",
      "Features with non-numeric values:\n",
      "\n",
      "['i94port', 'i94addr', 'visapost', 'occup', 'entdepa', 'entdepd', 'dtaddto', 'gender', 'airline', 'fltno', 'visatype']\n",
      "\n",
      "~~~~~~~~~~~~~~~~~~~~~~\n",
      "\n"
     ]
    }
   ],
   "source": [
    "tools.print_dataframe_report(immigration_df)"
   ]
  },
  {
   "cell_type": "code",
   "execution_count": 18,
   "metadata": {
    "editable": true
   },
   "outputs": [
    {
     "data": {
      "text/plain": [
       "<matplotlib.axes._subplots.AxesSubplot at 0x7f4b343f9358>"
      ]
     },
     "execution_count": 18,
     "metadata": {},
     "output_type": "execute_result"
    },
    {
     "data": {
      "image/png": "[encoded data removed]",
      "text/plain": [
       "<matplotlib.figure.Figure at 0x7f4b34577550>"
      ]
     },
     "metadata": {
      "needs_background": "light"
     },
     "output_type": "display_data"
    }
   ],
   "source": [
    "msno.matrix(immigration_df)"
   ]
  },
  {
   "cell_type": "code",
   "execution_count": 9,
   "metadata": {
    "editable": true
   },
   "outputs": [
    {
     "name": "stdout",
     "output_type": "stream",
     "text": [
      "Dropping missing data...\n",
      "Cleaning complete!\n"
     ]
    }
   ],
   "source": [
    "# clean_immigration = tools.eliminate_missing_data(immigration_df)"
   ]
  },
  {
   "cell_type": "code",
   "execution_count": 10,
   "metadata": {
    "editable": true
   },
   "outputs": [
    {
     "data": {
      "text/html": [
       "<div>\n",
       "<style scoped>\n",
       "    .dataframe tbody tr th:only-of-type {\n",
       "        vertical-align: middle;\n",
       "    }\n",
       "\n",
       "    .dataframe tbody tr th {\n",
       "        vertical-align: top;\n",
       "    }\n",
       "\n",
       "    .dataframe thead th {\n",
       "        text-align: right;\n",
       "    }\n",
       "</style>\n",
       "<table border=\"1\" class=\"dataframe\">\n",
       "  <thead>\n",
       "    <tr style=\"text-align: right;\">\n",
       "      <th></th>\n",
       "      <th>Unnamed: 0</th>\n",
       "      <th>cicid</th>\n",
       "      <th>i94yr</th>\n",
       "      <th>i94mon</th>\n",
       "      <th>i94cit</th>\n",
       "      <th>i94res</th>\n",
       "      <th>i94port</th>\n",
       "      <th>arrdate</th>\n",
       "      <th>i94mode</th>\n",
       "      <th>i94addr</th>\n",
       "      <th>depdate</th>\n",
       "      <th>i94bir</th>\n",
       "      <th>i94visa</th>\n",
       "      <th>count</th>\n",
       "      <th>dtadfile</th>\n",
       "      <th>visapost</th>\n",
       "      <th>entdepa</th>\n",
       "      <th>entdepd</th>\n",
       "      <th>matflag</th>\n",
       "      <th>biryear</th>\n",
       "      <th>dtaddto</th>\n",
       "      <th>gender</th>\n",
       "      <th>airline</th>\n",
       "      <th>admnum</th>\n",
       "      <th>fltno</th>\n",
       "      <th>visatype</th>\n",
       "    </tr>\n",
       "  </thead>\n",
       "  <tbody>\n",
       "    <tr>\n",
       "      <th>0</th>\n",
       "      <td>2027561</td>\n",
       "      <td>4084316.0</td>\n",
       "      <td>2016.0</td>\n",
       "      <td>4.0</td>\n",
       "      <td>209.0</td>\n",
       "      <td>209.0</td>\n",
       "      <td>HHW</td>\n",
       "      <td>20566.0</td>\n",
       "      <td>1.0</td>\n",
       "      <td>HI</td>\n",
       "      <td>20573.0</td>\n",
       "      <td>61.0</td>\n",
       "      <td>2.0</td>\n",
       "      <td>1.0</td>\n",
       "      <td>20160422</td>\n",
       "      <td>NaN</td>\n",
       "      <td>G</td>\n",
       "      <td>O</td>\n",
       "      <td>M</td>\n",
       "      <td>1955.0</td>\n",
       "      <td>07202016</td>\n",
       "      <td>F</td>\n",
       "      <td>JL</td>\n",
       "      <td>5.658267e+10</td>\n",
       "      <td>00782</td>\n",
       "      <td>WT</td>\n",
       "    </tr>\n",
       "    <tr>\n",
       "      <th>1</th>\n",
       "      <td>2171295</td>\n",
       "      <td>4422636.0</td>\n",
       "      <td>2016.0</td>\n",
       "      <td>4.0</td>\n",
       "      <td>582.0</td>\n",
       "      <td>582.0</td>\n",
       "      <td>MCA</td>\n",
       "      <td>20567.0</td>\n",
       "      <td>1.0</td>\n",
       "      <td>TX</td>\n",
       "      <td>20568.0</td>\n",
       "      <td>26.0</td>\n",
       "      <td>2.0</td>\n",
       "      <td>1.0</td>\n",
       "      <td>20160423</td>\n",
       "      <td>MTR</td>\n",
       "      <td>G</td>\n",
       "      <td>R</td>\n",
       "      <td>M</td>\n",
       "      <td>1990.0</td>\n",
       "      <td>10222016</td>\n",
       "      <td>M</td>\n",
       "      <td>*GA</td>\n",
       "      <td>9.436200e+10</td>\n",
       "      <td>XBLNG</td>\n",
       "      <td>B2</td>\n",
       "    </tr>\n",
       "    <tr>\n",
       "      <th>2</th>\n",
       "      <td>589494</td>\n",
       "      <td>1195600.0</td>\n",
       "      <td>2016.0</td>\n",
       "      <td>4.0</td>\n",
       "      <td>148.0</td>\n",
       "      <td>112.0</td>\n",
       "      <td>OGG</td>\n",
       "      <td>20551.0</td>\n",
       "      <td>1.0</td>\n",
       "      <td>FL</td>\n",
       "      <td>20571.0</td>\n",
       "      <td>76.0</td>\n",
       "      <td>2.0</td>\n",
       "      <td>1.0</td>\n",
       "      <td>20160407</td>\n",
       "      <td>NaN</td>\n",
       "      <td>G</td>\n",
       "      <td>O</td>\n",
       "      <td>M</td>\n",
       "      <td>1940.0</td>\n",
       "      <td>07052016</td>\n",
       "      <td>M</td>\n",
       "      <td>LH</td>\n",
       "      <td>5.578047e+10</td>\n",
       "      <td>00464</td>\n",
       "      <td>WT</td>\n",
       "    </tr>\n",
       "    <tr>\n",
       "      <th>3</th>\n",
       "      <td>2631158</td>\n",
       "      <td>5291768.0</td>\n",
       "      <td>2016.0</td>\n",
       "      <td>4.0</td>\n",
       "      <td>297.0</td>\n",
       "      <td>297.0</td>\n",
       "      <td>LOS</td>\n",
       "      <td>20572.0</td>\n",
       "      <td>1.0</td>\n",
       "      <td>CA</td>\n",
       "      <td>20581.0</td>\n",
       "      <td>25.0</td>\n",
       "      <td>2.0</td>\n",
       "      <td>1.0</td>\n",
       "      <td>20160428</td>\n",
       "      <td>DOH</td>\n",
       "      <td>G</td>\n",
       "      <td>O</td>\n",
       "      <td>M</td>\n",
       "      <td>1991.0</td>\n",
       "      <td>10272016</td>\n",
       "      <td>M</td>\n",
       "      <td>QR</td>\n",
       "      <td>9.478970e+10</td>\n",
       "      <td>00739</td>\n",
       "      <td>B2</td>\n",
       "    </tr>\n",
       "    <tr>\n",
       "      <th>4</th>\n",
       "      <td>3032257</td>\n",
       "      <td>985523.0</td>\n",
       "      <td>2016.0</td>\n",
       "      <td>4.0</td>\n",
       "      <td>111.0</td>\n",
       "      <td>111.0</td>\n",
       "      <td>CHM</td>\n",
       "      <td>20550.0</td>\n",
       "      <td>3.0</td>\n",
       "      <td>NY</td>\n",
       "      <td>20553.0</td>\n",
       "      <td>19.0</td>\n",
       "      <td>2.0</td>\n",
       "      <td>1.0</td>\n",
       "      <td>20160406</td>\n",
       "      <td>NaN</td>\n",
       "      <td>Z</td>\n",
       "      <td>K</td>\n",
       "      <td>M</td>\n",
       "      <td>1997.0</td>\n",
       "      <td>07042016</td>\n",
       "      <td>F</td>\n",
       "      <td>NaN</td>\n",
       "      <td>4.232257e+10</td>\n",
       "      <td>LAND</td>\n",
       "      <td>WT</td>\n",
       "    </tr>\n",
       "  </tbody>\n",
       "</table>\n",
       "</div>"
      ],
      "text/plain": [
       "   Unnamed: 0      cicid   i94yr  i94mon  i94cit  i94res i94port  arrdate  i94mode i94addr  depdate  i94bir  i94visa  count  dtadfile visapost entdepa entdepd matflag  \\\n",
       "0     2027561  4084316.0  2016.0     4.0   209.0   209.0     HHW  20566.0      1.0      HI  20573.0    61.0      2.0    1.0  20160422      NaN       G       O       M   \n",
       "1     2171295  4422636.0  2016.0     4.0   582.0   582.0     MCA  20567.0      1.0      TX  20568.0    26.0      2.0    1.0  20160423      MTR       G       R       M   \n",
       "2      589494  1195600.0  2016.0     4.0   148.0   112.0     OGG  20551.0      1.0      FL  20571.0    76.0      2.0    1.0  20160407      NaN       G       O       M   \n",
       "3     2631158  5291768.0  2016.0     4.0   297.0   297.0     LOS  20572.0      1.0      CA  20581.0    25.0      2.0    1.0  20160428      DOH       G       O       M   \n",
       "4     3032257   985523.0  2016.0     4.0   111.0   111.0     CHM  20550.0      3.0      NY  20553.0    19.0      2.0    1.0  20160406      NaN       Z       K       M   \n",
       "\n",
       "   biryear   dtaddto gender airline        admnum  fltno visatype  \n",
       "0   1955.0  07202016      F      JL  5.658267e+10  00782       WT  \n",
       "1   1990.0  10222016      M     *GA  9.436200e+10  XBLNG       B2  \n",
       "2   1940.0  07052016      M      LH  5.578047e+10  00464       WT  \n",
       "3   1991.0  10272016      M      QR  9.478970e+10  00739       B2  \n",
       "4   1997.0  07042016      F     NaN  4.232257e+10   LAND       WT  "
      ]
     },
     "execution_count": 10,
     "metadata": {},
     "output_type": "execute_result"
    }
   ],
   "source": [
    "# clean_immigration.head()"
   ]
  },
  {
   "cell_type": "markdown",
   "metadata": {
    "editable": true
   },
   "source": [
    "#### US Cities Demographics"
   ]
  },
  {
   "cell_type": "code",
   "execution_count": null,
   "metadata": {
    "editable": true
   },
   "outputs": [],
   "source": [
    "# read data in"
   ]
  },
  {
   "cell_type": "code",
   "execution_count": 15,
   "metadata": {
    "editable": true
   },
   "outputs": [],
   "source": [
    "us_cities_demographics = 'us-cities-demographics.csv'\n",
    "demographics_df = spark.read.csv(us_cities_demographics, inferSchema=True, header=True, sep=';')"
   ]
  },
  {
   "cell_type": "code",
   "execution_count": 19,
   "metadata": {
    "editable": true
   },
   "outputs": [
    {
     "data": {
      "text/html": [
       "<div>\n",
       "<style scoped>\n",
       "    .dataframe tbody tr th:only-of-type {\n",
       "        vertical-align: middle;\n",
       "    }\n",
       "\n",
       "    .dataframe tbody tr th {\n",
       "        vertical-align: top;\n",
       "    }\n",
       "\n",
       "    .dataframe thead th {\n",
       "        text-align: right;\n",
       "    }\n",
       "</style>\n",
       "<table border=\"1\" class=\"dataframe\">\n",
       "  <thead>\n",
       "    <tr style=\"text-align: right;\">\n",
       "      <th></th>\n",
       "      <th>City</th>\n",
       "      <th>State</th>\n",
       "      <th>Median Age</th>\n",
       "      <th>Male Population</th>\n",
       "      <th>Female Population</th>\n",
       "      <th>Total Population</th>\n",
       "      <th>Number of Veterans</th>\n",
       "      <th>Foreign-born</th>\n",
       "      <th>Average Household Size</th>\n",
       "      <th>State Code</th>\n",
       "      <th>Race</th>\n",
       "      <th>Count</th>\n",
       "    </tr>\n",
       "  </thead>\n",
       "  <tbody>\n",
       "    <tr>\n",
       "      <th>0</th>\n",
       "      <td>Silver Spring</td>\n",
       "      <td>Maryland</td>\n",
       "      <td>33.8</td>\n",
       "      <td>40601.0</td>\n",
       "      <td>41862.0</td>\n",
       "      <td>82463</td>\n",
       "      <td>1562.0</td>\n",
       "      <td>30908.0</td>\n",
       "      <td>2.60</td>\n",
       "      <td>MD</td>\n",
       "      <td>Hispanic or Latino</td>\n",
       "      <td>25924</td>\n",
       "    </tr>\n",
       "    <tr>\n",
       "      <th>1</th>\n",
       "      <td>Quincy</td>\n",
       "      <td>Massachusetts</td>\n",
       "      <td>41.0</td>\n",
       "      <td>44129.0</td>\n",
       "      <td>49500.0</td>\n",
       "      <td>93629</td>\n",
       "      <td>4147.0</td>\n",
       "      <td>32935.0</td>\n",
       "      <td>2.39</td>\n",
       "      <td>MA</td>\n",
       "      <td>White</td>\n",
       "      <td>58723</td>\n",
       "    </tr>\n",
       "    <tr>\n",
       "      <th>2</th>\n",
       "      <td>Hoover</td>\n",
       "      <td>Alabama</td>\n",
       "      <td>38.5</td>\n",
       "      <td>38040.0</td>\n",
       "      <td>46799.0</td>\n",
       "      <td>84839</td>\n",
       "      <td>4819.0</td>\n",
       "      <td>8229.0</td>\n",
       "      <td>2.58</td>\n",
       "      <td>AL</td>\n",
       "      <td>Asian</td>\n",
       "      <td>4759</td>\n",
       "    </tr>\n",
       "    <tr>\n",
       "      <th>3</th>\n",
       "      <td>Rancho Cucamonga</td>\n",
       "      <td>California</td>\n",
       "      <td>34.5</td>\n",
       "      <td>88127.0</td>\n",
       "      <td>87105.0</td>\n",
       "      <td>175232</td>\n",
       "      <td>5821.0</td>\n",
       "      <td>33878.0</td>\n",
       "      <td>3.18</td>\n",
       "      <td>CA</td>\n",
       "      <td>Black or African-American</td>\n",
       "      <td>24437</td>\n",
       "    </tr>\n",
       "    <tr>\n",
       "      <th>4</th>\n",
       "      <td>Newark</td>\n",
       "      <td>New Jersey</td>\n",
       "      <td>34.6</td>\n",
       "      <td>138040.0</td>\n",
       "      <td>143873.0</td>\n",
       "      <td>281913</td>\n",
       "      <td>5829.0</td>\n",
       "      <td>86253.0</td>\n",
       "      <td>2.73</td>\n",
       "      <td>NJ</td>\n",
       "      <td>White</td>\n",
       "      <td>76402</td>\n",
       "    </tr>\n",
       "  </tbody>\n",
       "</table>\n",
       "</div>"
      ],
      "text/plain": [
       "               City          State  Median Age  Male Population  Female Population  Total Population  Number of Veterans  Foreign-born  Average Household Size  \\\n",
       "0     Silver Spring       Maryland        33.8          40601.0            41862.0             82463              1562.0       30908.0                    2.60   \n",
       "1            Quincy  Massachusetts        41.0          44129.0            49500.0             93629              4147.0       32935.0                    2.39   \n",
       "2            Hoover        Alabama        38.5          38040.0            46799.0             84839              4819.0        8229.0                    2.58   \n",
       "3  Rancho Cucamonga     California        34.5          88127.0            87105.0            175232              5821.0       33878.0                    3.18   \n",
       "4            Newark     New Jersey        34.6         138040.0           143873.0            281913              5829.0       86253.0                    2.73   \n",
       "\n",
       "  State Code                       Race  Count  \n",
       "0         MD         Hispanic or Latino  25924  \n",
       "1         MA                      White  58723  \n",
       "2         AL                      Asian   4759  \n",
       "3         CA  Black or African-American  24437  \n",
       "4         NJ                      White  76402  "
      ]
     },
     "execution_count": 19,
     "metadata": {},
     "output_type": "execute_result"
    }
   ],
   "source": [
    "demographics_df.toPandas().head()"
   ]
  },
  {
   "cell_type": "code",
   "execution_count": 15,
   "metadata": {
    "editable": true
   },
   "outputs": [
    {
     "name": "stdout",
     "output_type": "stream",
     "text": [
      "\n",
      "\n",
      "---------------------\n",
      "DATAFRAME INFORMATION\n",
      "---------------------\n",
      "Dataframe shape: (2891, 12) \n",
      "\n",
      "Column Headers: ['City', 'State', 'Median Age', 'Male Population', 'Female Population', 'Total Population', 'Number of Veterans', 'Foreign-born', 'Average Household Size', 'State Code', 'Race', 'Count'] \n",
      "\n",
      "City                       object\n",
      "State                      object\n",
      "Median Age                float64\n",
      "Male Population           float64\n",
      "Female Population         float64\n",
      "Total Population            int32\n",
      "Number of Veterans        float64\n",
      "Foreign-born              float64\n",
      "Average Household Size    float64\n",
      "State Code                 object\n",
      "Race                       object\n",
      "Count                       int32\n",
      "dtype: object\n"
     ]
    }
   ],
   "source": [
    "tools.print_dataframe_info(demographics_df.toPandas())"
   ]
  },
  {
   "cell_type": "code",
   "execution_count": 16,
   "metadata": {
    "editable": true
   },
   "outputs": [
    {
     "name": "stdout",
     "output_type": "stream",
     "text": [
      "City has 567 unique values\n",
      "Listing up to 10 unique values:\n",
      "['Silver Spring' 'Quincy' 'Hoover' 'Rancho Cucamonga' 'Newark' 'Peoria'\n",
      " 'Avondale' 'West Covina' \"O'Fallon\" 'High Point']\n",
      "\n",
      "---------------------\n",
      "\n",
      "State has 49 unique values\n",
      "Listing up to 10 unique values:\n",
      "['Maryland' 'Massachusetts' 'Alabama' 'California' 'New Jersey' 'Illinois'\n",
      " 'Arizona' 'Missouri' 'North Carolina' 'Pennsylvania']\n",
      "\n",
      "---------------------\n",
      "\n",
      "Median Age has 180 unique values\n",
      "Listing up to 10 unique values:\n",
      "[33.8 41.  38.5 34.5 34.6 33.1 29.1 39.8 36.  35.5]\n",
      "\n",
      "---------------------\n",
      "\n",
      "Male Population has 594 unique values\n",
      "Listing up to 10 unique values:\n",
      "[ 40601.  44129.  38040.  88127. 138040.  56229.  38712.  51629.  41762.\n",
      "  51751.]\n",
      "\n",
      "---------------------\n",
      "\n",
      "Female Population has 595 unique values\n",
      "Listing up to 10 unique values:\n",
      "[ 41862.  49500.  46799.  87105. 143873.  62432.  41971.  56860.  43270.\n",
      "  58077.]\n",
      "\n",
      "---------------------\n",
      "\n",
      "Total Population has 594 unique values\n",
      "Listing up to 10 unique values:\n",
      "[ 82463  93629  84839 175232 281913 118661  80683 108489  85032 109828]\n",
      "\n",
      "---------------------\n",
      "\n",
      "Number of Veterans has 578 unique values\n",
      "Listing up to 10 unique values:\n",
      "[1562. 4147. 4819. 5821. 5829. 6634. 4815. 3800. 5783. 5204.]\n",
      "\n",
      "---------------------\n",
      "\n",
      "Foreign-born has 588 unique values\n",
      "Listing up to 10 unique values:\n",
      "[30908. 32935.  8229. 33878. 86253.  7517.  8355. 37038.  3269. 16315.]\n",
      "\n",
      "---------------------\n",
      "\n",
      "Average Household Size has 162 unique values\n",
      "Listing up to 10 unique values:\n",
      "[2.6  2.39 2.58 3.18 2.73 2.4  3.56 2.77 2.65 2.62]\n",
      "\n",
      "---------------------\n",
      "\n",
      "State Code has 49 unique values\n",
      "Listing up to 10 unique values:\n",
      "['MD' 'MA' 'AL' 'CA' 'NJ' 'IL' 'AZ' 'MO' 'NC' 'PA']\n",
      "\n",
      "---------------------\n",
      "\n",
      "Race has 5 unique values\n",
      "Count has 2785 unique values\n",
      "Listing up to 10 unique values:\n",
      "[25924 58723  4759 24437 76402  1343 11592 32716  2583 11060]\n",
      "\n",
      "---------------------\n",
      "\n",
      "\n",
      "~~~~~~~~~~~~~~~~~~~~~~\n",
      "\n",
      "Features with missing values:\n",
      "\n",
      "3 is missing in Male Population, 0.10377032168799723%.\n",
      "\n",
      "3 is missing in Female Population, 0.10377032168799723%.\n",
      "\n",
      "13 is missing in Number of Veterans, 0.44967139398132133%.\n",
      "\n",
      "13 is missing in Foreign-born, 0.44967139398132133%.\n",
      "\n",
      "16 is missing in Average Household Size, 0.5534417156693185%.\n",
      "\n",
      "Features with non-numeric values:\n",
      "\n",
      "['City', 'State', 'State Code', 'Race']\n",
      "\n",
      "~~~~~~~~~~~~~~~~~~~~~~\n",
      "\n"
     ]
    }
   ],
   "source": [
    "tools.print_dataframe_report(demographics_df.toPandas())"
   ]
  },
  {
   "cell_type": "code",
   "execution_count": 17,
   "metadata": {
    "editable": true
   },
   "outputs": [
    {
     "data": {
      "text/plain": [
       "<matplotlib.axes._subplots.AxesSubplot at 0x7f4b34386ba8>"
      ]
     },
     "execution_count": 17,
     "metadata": {},
     "output_type": "execute_result"
    },
    {
     "data": {
      "image/png": "[encoded data removed]",
      "text/plain": [
       "<matplotlib.figure.Figure at 0x7f4b34599668>"
      ]
     },
     "metadata": {
      "needs_background": "light"
     },
     "output_type": "display_data"
    }
   ],
   "source": [
    "msno.matrix(demographics_df.toPandas())"
   ]
  },
  {
   "cell_type": "code",
   "execution_count": null,
   "metadata": {
    "editable": true
   },
   "outputs": [],
   "source": []
  },
  {
   "cell_type": "code",
   "execution_count": null,
   "metadata": {
    "editable": true
   },
   "outputs": [],
   "source": []
  }
 ],
 "metadata": {
  "kernelspec": {
   "display_name": "Python 3",
   "language": "python",
   "name": "python3"
  },
  "language_info": {
   "codemirror_mode": {
    "name": "ipython",
    "version": 3
   },
   "file_extension": ".py",
   "mimetype": "text/x-python",
   "name": "python",
   "nbconvert_exporter": "python",
   "pygments_lexer": "ipython3",
   "version": "3.6.3"
  }
 },
 "nbformat": 4,
 "nbformat_minor": 4
}
